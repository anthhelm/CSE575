{
 "metadata": {
  "name": "",
  "signature": "sha256:aff6456d24763e043d2f271b58c7bc38ec0717ad3cc48d1816a947d6004eedb6"
 },
 "nbformat": 3,
 "nbformat_minor": 0,
 "worksheets": [
  {
   "cells": [
    {
     "cell_type": "code",
     "collapsed": false,
     "input": [
      "# prototype recommender in python\n",
      "# uses amazon_mahout.csv\n",
      "import numpy as np\n",
      "import pandas as pd\n",
      "from scipy.stats import pearsonr\n",
      "import math\n",
      "\n",
      "model = pd.read_csv('preprocessfinal.csv')\n",
      "model = pd.read_csv('amazon_mahout.csv')\n",
      "print(model.head())"
     ],
     "language": "python",
     "metadata": {},
     "outputs": [
      {
       "output_type": "stream",
       "stream": "stdout",
       "text": [
        "   UserID  ProductID  Review\n",
        "0       1          1       4\n",
        "1       1       2344       5\n",
        "2       1       4949       5\n",
        "3       1       7187       3\n",
        "4       1       8664       5\n"
       ]
      }
     ],
     "prompt_number": 274
    },
    {
     "cell_type": "code",
     "collapsed": false,
     "input": [
      "def items_rated_by(user):\n",
      "    return list(model[model.UserID == user].ProductID)\n",
      "\n",
      "def common_to_both(user1, user2):\n",
      "    return list(set(items_rated_by(user1)) & set(items_rated_by(user2)))\n",
      "\n",
      "def similarity(user1, user2):\n",
      "    user1_reviews, user2_reviews = [],[]\n",
      "    \n",
      "    for product_id in common_to_both(user1,user2):\n",
      "\n",
      "        review_from_user1 = model[((model.UserID == user1) & (model.ProductID == product_id))].Review.values[0]\n",
      "        review_from_user2 = model[((model.UserID == user2) & (model.ProductID == product_id))].Review.values[0]\n",
      "        \n",
      "        user1_reviews.append(review_from_user1)\n",
      "        user2_reviews.append(review_from_user2)\n",
      "    \n",
      "    if len(user1_reviews) > 0:\n",
      "        coeff, p = pearsonr(user1_reviews, user2_reviews)\n",
      "        return 0 if math.isnan(coeff) else coeff\n",
      "    else:\n",
      "        return 0\n",
      "    \n",
      "    \n",
      "def k_neighborhood(user,k):\n",
      "    user_list = list(model.UserID.unique())\n",
      "    user_list.remove(user)\n",
      "    sim_array = []\n",
      "    \n",
      "    i = 0\n",
      "    print(\"need to check against %d users\" % len(user_list))\n",
      "    \n",
      "    for other_user in user_list:\n",
      "        i += 1\n",
      "        if (i % 1000 == 0):\n",
      "            print(\"on user #%d\" % i)\n",
      "        similarity(user, other_user)\n",
      "    return 0\n",
      "    \n",
      "    "
     ],
     "language": "python",
     "metadata": {},
     "outputs": [],
     "prompt_number": 275
    },
    {
     "cell_type": "code",
     "collapsed": false,
     "input": [
      "import time\n",
      "import random\n",
      "\n",
      "t0 = time.time()\n",
      "for i in range(10000):\n",
      "    j,k = random.randint(1,60000), random.randint(1,60000)\n",
      "    similarity(j,k)\n",
      "t1 = time.time()\n",
      "\n",
      "print t1-t0"
     ],
     "language": "python",
     "metadata": {},
     "outputs": [
      {
       "output_type": "stream",
       "stream": "stdout",
       "text": [
        "31.3958380222\n"
       ]
      }
     ],
     "prompt_number": 283
    },
    {
     "cell_type": "code",
     "collapsed": false,
     "input": [
      "pearsonr([2,2],[2,2])"
     ],
     "language": "python",
     "metadata": {},
     "outputs": [
      {
       "metadata": {},
       "output_type": "pyout",
       "prompt_number": 224,
       "text": [
        "(nan, nan)"
       ]
      }
     ],
     "prompt_number": 224
    },
    {
     "cell_type": "code",
     "collapsed": false,
     "input": [],
     "language": "python",
     "metadata": {},
     "outputs": []
    }
   ],
   "metadata": {}
  }
 ]
}