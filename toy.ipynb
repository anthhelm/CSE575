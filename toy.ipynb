{
 "metadata": {
  "name": "",
  "signature": "sha256:5aa2199c9b3d9a1df2441e2fb05a0e4d4ef061003b35f23396d9a34877cce993"
 },
 "nbformat": 3,
 "nbformat_minor": 0,
 "worksheets": [
  {
   "cells": [
    {
     "cell_type": "code",
     "collapsed": false,
     "input": [
      "import pandas as pd\n",
      "import numpy as np\n",
      "import pylab as pl\n",
      "\n"
     ],
     "language": "python",
     "metadata": {},
     "outputs": [],
     "prompt_number": 1
    },
    {
     "cell_type": "code",
     "collapsed": false,
     "input": [
      "df = pd.read_csv(\"Amazon_Instant_Video.csv\", sep=',')\n",
      "df = df.drop(df.head(1).index)\n",
      "df.columns = ['productId', 'title', 'price', 'userId', 'profileName',\n",
      "       'helpfulness', 'score','time', 'summary', 'text']\n",
      "\n",
      "df.head()\n"
     ],
     "language": "python",
     "metadata": {},
     "outputs": [
      {
       "html": [
        "<div style=\"max-height:1000px;max-width:1500px;overflow:auto;\">\n",
        "<table border=\"1\" class=\"dataframe\">\n",
        "  <thead>\n",
        "    <tr style=\"text-align: right;\">\n",
        "      <th></th>\n",
        "      <th>productId</th>\n",
        "      <th>title</th>\n",
        "      <th>price</th>\n",
        "      <th>userId</th>\n",
        "      <th>profileName</th>\n",
        "      <th>helpfulness</th>\n",
        "      <th>score</th>\n",
        "      <th>time</th>\n",
        "      <th>summary</th>\n",
        "      <th>text</th>\n",
        "    </tr>\n",
        "  </thead>\n",
        "  <tbody>\n",
        "    <tr>\n",
        "      <th>1</th>\n",
        "      <td> B002BNZ2XE</td>\n",
        "      <td> Amazon.com: Moving Target (1988): Jason Batema...</td>\n",
        "      <td> 0.00</td>\n",
        "      <td>  AZVY9Y3A0YU1I</td>\n",
        "      <td>                   Willard R. Stephen</td>\n",
        "      <td>  1/1</td>\n",
        "      <td> 4</td>\n",
        "      <td> 1277424000</td>\n",
        "      <td>                                     Moving Target</td>\n",
        "      <td> I found this to be an intrieging suspense thri...</td>\n",
        "    </tr>\n",
        "    <tr>\n",
        "      <th>2</th>\n",
        "      <td> B002BNZ2XE</td>\n",
        "      <td> Amazon.com: Moving Target (1988): Jason Batema...</td>\n",
        "      <td> 0.00</td>\n",
        "      <td> A2582KMXLK2P06</td>\n",
        "      <td>                         B. E Jackson</td>\n",
        "      <td>  2/3</td>\n",
        "      <td> 4</td>\n",
        "      <td> 1251676800</td>\n",
        "      <td> cheesy very dated and well... the beginning of...</td>\n",
        "      <td> I don't know exactly when Jason Bateman starte...</td>\n",
        "    </tr>\n",
        "    <tr>\n",
        "      <th>3</th>\n",
        "      <td> B002BNZ2XE</td>\n",
        "      <td> Amazon.com: Moving Target (1988): Jason Batema...</td>\n",
        "      <td> 0.00</td>\n",
        "      <td> A26R4PDCZX5SOK</td>\n",
        "      <td> Jim \"The World According to JimG944\"</td>\n",
        "      <td>  1/2</td>\n",
        "      <td> 2</td>\n",
        "      <td> 1255651200</td>\n",
        "      <td>          Slow dull \"classical\" 1980's style movie</td>\n",
        "      <td> 2 stars of 5 for this slow dull \"classical\" 19...</td>\n",
        "    </tr>\n",
        "    <tr>\n",
        "      <th>4</th>\n",
        "      <td> B002BNZ2XE</td>\n",
        "      <td> Amazon.com: Moving Target (1988): Jason Batema...</td>\n",
        "      <td> 0.00</td>\n",
        "      <td>        unknown</td>\n",
        "      <td>                              unknown</td>\n",
        "      <td> 5/10</td>\n",
        "      <td> 5</td>\n",
        "      <td> 1089590400</td>\n",
        "      <td>                   Thank you for Releasing it!!!!!</td>\n",
        "      <td> I loved this movie as a kid and I am so happy ...</td>\n",
        "    </tr>\n",
        "    <tr>\n",
        "      <th>5</th>\n",
        "      <td> B004WAQDM8</td>\n",
        "      <td> Amazon.com: Mask Maker: Jonathan Breck Nikki D...</td>\n",
        "      <td> 3.99</td>\n",
        "      <td> A3STFVPM8NHJ7B</td>\n",
        "      <td>                            A. Pierre</td>\n",
        "      <td>  1/2</td>\n",
        "      <td> 4</td>\n",
        "      <td> 1316908800</td>\n",
        "      <td>                                        Mask Maker</td>\n",
        "      <td> I saw this at a store and the cover is probabl...</td>\n",
        "    </tr>\n",
        "  </tbody>\n",
        "</table>\n",
        "</div>"
       ],
       "metadata": {},
       "output_type": "pyout",
       "prompt_number": 30,
       "text": [
        "    productId                                              title price  \\\n",
        "1  B002BNZ2XE  Amazon.com: Moving Target (1988): Jason Batema...  0.00   \n",
        "2  B002BNZ2XE  Amazon.com: Moving Target (1988): Jason Batema...  0.00   \n",
        "3  B002BNZ2XE  Amazon.com: Moving Target (1988): Jason Batema...  0.00   \n",
        "4  B002BNZ2XE  Amazon.com: Moving Target (1988): Jason Batema...  0.00   \n",
        "5  B004WAQDM8  Amazon.com: Mask Maker: Jonathan Breck Nikki D...  3.99   \n",
        "\n",
        "           userId                           profileName helpfulness  score  \\\n",
        "1   AZVY9Y3A0YU1I                    Willard R. Stephen         1/1      4   \n",
        "2  A2582KMXLK2P06                          B. E Jackson         2/3      4   \n",
        "3  A26R4PDCZX5SOK  Jim \"The World According to JimG944\"         1/2      2   \n",
        "4         unknown                               unknown        5/10      5   \n",
        "5  A3STFVPM8NHJ7B                             A. Pierre         1/2      4   \n",
        "\n",
        "         time                                            summary  \\\n",
        "1  1277424000                                      Moving Target   \n",
        "2  1251676800  cheesy very dated and well... the beginning of...   \n",
        "3  1255651200           Slow dull \"classical\" 1980's style movie   \n",
        "4  1089590400                    Thank you for Releasing it!!!!!   \n",
        "5  1316908800                                         Mask Maker   \n",
        "\n",
        "                                                text  \n",
        "1  I found this to be an intrieging suspense thri...  \n",
        "2  I don't know exactly when Jason Bateman starte...  \n",
        "3  2 stars of 5 for this slow dull \"classical\" 19...  \n",
        "4  I loved this movie as a kid and I am so happy ...  \n",
        "5  I saw this at a store and the cover is probabl...  "
       ]
      }
     ],
     "prompt_number": 30
    },
    {
     "cell_type": "code",
     "collapsed": false,
     "input": [
      "# find people who have reviewed the same 2 movies\n",
      "# Amazon.com: Transformers: Dark of the Moon B005OT2YVA\n",
      "# Amazon.com: Casino Royale: Daniel Craig B000OC1XV4\n",
      "movie_1, movie_2 = \"B005OT2YVA\", \"B000OC1XV4\" \n",
      "movie_1_reviewers = df[df.productId==movie_1].userId.unique()\n",
      "movie_2_reviewers = df[df.productId==movie_2].userId.unique()\n",
      "common_reviewers = set(movie_1_reviewers).intersection(movie_2_reviewers)\n",
      "print \"Users in the sameset: %d\" % len(common_reviewers)\n",
      "list(common_reviewers)[:10]"
     ],
     "language": "python",
     "metadata": {},
     "outputs": [
      {
       "output_type": "stream",
       "stream": "stdout",
       "text": [
        "Users in the sameset: 21\n"
       ]
      },
      {
       "metadata": {},
       "output_type": "pyout",
       "prompt_number": 32,
       "text": [
        "['A328S9RN3U5M68',\n",
        " 'A3M2WW0PO34B94',\n",
        " 'A2A6NH6DPE0VXR',\n",
        " 'A19ZXK9HHVRV1X',\n",
        " 'AWG2O9C42XW5G',\n",
        " 'A1U360OMVQRPUB',\n",
        " 'AIFXFHO2N9WJB',\n",
        " 'AUTBHG6070SL4',\n",
        " 'AER15RIMV8E6D',\n",
        " 'AP3B615GM191G']"
       ]
      }
     ],
     "prompt_number": 32
    },
    {
     "cell_type": "code",
     "collapsed": false,
     "input": [
      "# extract reviews from common reviewers\n",
      "def get_movie_reviews(movie, common_reviewers):\n",
      "    mask = (df.userId.isin(common_reviewers)) & (df.productId==movie)\n",
      "    reviews = df[mask].sort('userId')\n",
      "    reviews = reviews[reviews.userId.duplicated()==False]\n",
      "    return reviews\n",
      "movie_1_reviews = get_movie_reviews(movie_1, common_reviewers)\n",
      "movie_2_reviews = get_movie_reviews(movie_2, common_reviewers)\n",
      "\n",
      "cols = ['score', 'text']\n",
      "# print(movie_1_reviews[cols])\n"
     ],
     "language": "python",
     "metadata": {},
     "outputs": [],
     "prompt_number": 63
    },
    {
     "cell_type": "code",
     "collapsed": false,
     "input": [
      "users = list(df.userId.unique())\n",
      "movies = list(df.productId.unique())\n",
      "print(len(users))\n",
      "print(len(movies))"
     ],
     "language": "python",
     "metadata": {},
     "outputs": [
      {
       "output_type": "stream",
       "stream": "stdout",
       "text": [
        "312930\n",
        "22204\n"
       ]
      }
     ],
     "prompt_number": 72
    },
    {
     "cell_type": "code",
     "collapsed": false,
     "input": [
      "312930/22204.0"
     ],
     "language": "python",
     "metadata": {},
     "outputs": [
      {
       "metadata": {},
       "output_type": "pyout",
       "prompt_number": 73,
       "text": [
        "14.093406593406593"
       ]
      }
     ],
     "prompt_number": 73
    },
    {
     "cell_type": "code",
     "collapsed": false,
     "input": [],
     "language": "python",
     "metadata": {},
     "outputs": []
    }
   ],
   "metadata": {}
  }
 ]
}